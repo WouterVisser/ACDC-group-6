{
 "cells": [
  {
   "cell_type": "code",
   "execution_count": 1,
   "id": "7457ec68-962f-4f9b-a68e-d0b12ba77cb8",
   "metadata": {
    "ExecuteTime": {
     "end_time": "2024-06-16T12:58:11.688289600Z",
     "start_time": "2024-06-16T12:57:44.358522200Z"
    },
    "tags": []
   },
   "outputs": [],
   "source": [
    "# Importing the libraries: \n",
    "import os\n",
    "import numpy as np              # Version used: 1.23.1\n",
    "import glob\n",
    "import monai                    # Version used: 1.3.0\n",
    "from monai.transforms import * \n",
    "import SimpleITK as sitk        # Version used: 2.3.1\n",
    "import torch                    # Version used: 1.13.1+cu116\n",
    "from tqdm import tqdm\n",
    "import matplotlib.pyplot as plt # Version used: 3.7.5"
   ]
  },
  {
   "cell_type": "markdown",
   "id": "306a505e-5462-4135-b3ae-08cc02341005",
   "metadata": {
    "user_expressions": []
   },
   "source": [
    "## Loading the data"
   ]
  },
  {
   "cell_type": "code",
   "execution_count": 2,
   "id": "67602afd-17af-401f-82a9-3ccd7c2fab0c",
   "metadata": {
    "ExecuteTime": {
     "end_time": "2024-06-16T12:58:11.726184200Z",
     "start_time": "2024-06-16T12:58:11.709231600Z"
    },
    "tags": []
   },
   "outputs": [],
   "source": [
    "# A function 'build_dicts' is made to obtain the filenames from the given dataset.\n",
    "def build_dicts(data_path='database', mode=\"training\"):\n",
    "\n",
    "    # Check if the mode is training or testing:\n",
    "    if mode not in [\"training\", \"testing\"]:\n",
    "        raise ValueError(f\"Please choose a mode in ['training', 'testing']. Current mode is {mode}.\")\n",
    "\n",
    "    # Finding the .nii.gz files in the dataset matching the folder and directory names with the variability of patientnumbers and frames. \n",
    "    paths_xray = glob.glob(os.path.join(data_path, mode, 'patient*', 'patient*_frame[0-9][0-9].nii.gz'))\n",
    "\n",
    "    dicts = []\n",
    "    # Iterate over each file path and extract the ground truth files from the scan file. \n",
    "    for scan_file in paths_xray:\n",
    "        extension_index = scan_file.index(\".\")\n",
    "        gt_file = scan_file[:extension_index] + \"_gt\" + scan_file[extension_index:]\n",
    "\n",
    "        directory = scan_file.split(os.sep)[:-1]\n",
    "        cfg_file = os.path.join(*directory, \"Info.cfg\")\n",
    "\n",
    "        # Open the info.cfg files to extraxt the disease information for completeness.\n",
    "        with open(cfg_file, \"r\") as f:\n",
    "            line = f.readlines()[2]\n",
    "            disease = line.split(\": \")[1]\n",
    "\n",
    "        # Make a dictionary with a scan file path, the ground truth file path, and the disease\n",
    "        if os.path.exists(gt_file):\n",
    "            dicts.append({\"scan_file\": scan_file, \n",
    "                          \"gt_file\": gt_file, \n",
    "                          \"class\": disease})\n",
    "    return dicts"
   ]
  },
  {
   "cell_type": "code",
   "execution_count": 3,
   "id": "539188d0-c0cf-481c-933a-563e10e8f3a9",
   "metadata": {
    "ExecuteTime": {
     "end_time": "2024-06-16T12:58:11.746128600Z",
     "start_time": "2024-06-16T12:58:11.725186800Z"
    },
    "tags": []
   },
   "outputs": [],
   "source": [
    "# A function 'ReadFiles' is made to read out scan files from a specific dictionary using SimpleITK.\n",
    "class ReadFiles(monai.transforms.Transform):\n",
    "    def __call__(self, sample):\n",
    "        \n",
    "        # Disable warnings\n",
    "        sitk.ProcessObject_SetGlobalWarningDisplay(False)\n",
    "        \n",
    "        # Read out the scan file without the ground truth\n",
    "        image = sitk.ReadImage(sample[\"scan_file\"])\n",
    "\n",
    "        # Read out the scan file with the ground truth\n",
    "        mask = sitk.ReadImage(sample[\"gt_file\"])\n",
    "        \n",
    "        # Re-able warnings\n",
    "        sitk.ProcessObject_SetGlobalWarningDisplay(True)\n",
    "\n",
    "        # Returning a dictionary contain all the relevant information\n",
    "        return {\"img\": image,                      # Object of the scan file without the segmenation\n",
    "                \"mask\": mask,                      # Object of the mask of the ground truth segmentation\n",
    "                \"img_size\": image.GetSize(),       # Size of each scan file\n",
    "                \"img_spacing\": image.GetSpacing(), # Spacing of the voxels of each scan file\n",
    "                \"class\": sample[\"class\"],          # The disease label of each scan file\n",
    "                \"scan_file\": sample[\"scan_file\"]   # Path to the scan file\n",
    "               }"
   ]
  },
  {
   "cell_type": "code",
   "execution_count": 4,
   "id": "1ad5ff46-2f0f-49ab-a4cb-a412f3b1b7d4",
   "metadata": {
    "ExecuteTime": {
     "end_time": "2024-06-16T12:58:11.710228900Z",
     "start_time": "2024-06-16T12:58:11.693275400Z"
    },
    "tags": []
   },
   "outputs": [],
   "source": [
    "# A function 'resample_img' is made to set the spacing of the SITK image\n",
    "def resample_img(itk_image, out_spacing, is_label):\n",
    "    original_spacing = itk_image.GetSpacing()\n",
    "    original_size = itk_image.GetSize()\n",
    "\n",
    "    # Calculate the output size, after the image has been respaced\n",
    "    out_size = [\n",
    "        int(np.round(original_size[0] * (original_spacing[0] / out_spacing[0]))),\n",
    "        int(np.round(original_size[1] * (original_spacing[1] / out_spacing[1]))),\n",
    "        int(np.round(original_size[2] * (original_spacing[2] / out_spacing[2])))]\n",
    "\n",
    "    resample = sitk.ResampleImageFilter()\n",
    "    resample.SetOutputSpacing(out_spacing)\n",
    "    resample.SetSize(out_size)\n",
    "    resample.SetOutputDirection(itk_image.GetDirection())\n",
    "    resample.SetOutputOrigin(itk_image.GetOrigin())\n",
    "\n",
    "    if is_label: \n",
    "        resample.SetInterpolator(sitk.sitkNearestNeighbor) # Use nearest neighbour for labels\n",
    "    else:\n",
    "        resample.SetInterpolator(sitk.sitkBSpline)\n",
    "\n",
    "    return resample.Execute(itk_image)"
   ]
  },
  {
   "cell_type": "code",
   "execution_count": 5,
   "id": "fb954b62-344b-4a19-85fd-3ee20df1d925",
   "metadata": {
    "ExecuteTime": {
     "end_time": "2024-06-16T12:58:11.782029300Z",
     "start_time": "2024-06-16T12:58:11.739148600Z"
    },
    "tags": []
   },
   "outputs": [],
   "source": [
    "# A function 'EqualizeSpacing' is made to apply the equalization of the spacings to the images and the masks.\n",
    "class EqualizeSpacing(monai.transforms.Transform):\n",
    "    def __call__(self, sample):\n",
    "        # The original size and spacings of the images and masks are stored in the sample dictionary.\n",
    "        # This is done so the image can be transformed back after inference\n",
    "        sample['org_size'] = sample['img_size']\n",
    "        sample['org_spacing'] = sample['img_spacing']\n",
    "\n",
    "        # Here all dimensions are equally spaced to 1.25\n",
    "        image = resample_img(sample['img'], [1.25, 1.25, 1.25], False)\n",
    "        sample['img'] = image\n",
    "        sample['img_size'] = image.GetSize()\n",
    "        sample['img_spacing'] = image.GetSpacing()\n",
    "\n",
    "        # We do not resample the mask, as we will resample the image back before calculating the metrics\n",
    "        return sample"
   ]
  },
  {
   "cell_type": "code",
   "execution_count": 6,
   "id": "9cb4b1cc-496a-48ce-b6a8-7c9ec6bd9db5",
   "metadata": {
    "ExecuteTime": {
     "end_time": "2024-06-16T12:58:11.783027400Z",
     "start_time": "2024-06-16T12:58:11.755105200Z"
    },
    "tags": []
   },
   "outputs": [],
   "source": [
    "# A function 'LoadData' is made to convert the SimpleITK objects to NumPy arrays.\n",
    "class LoadData(monai.transforms.Transform):\n",
    "    def __call__(self, sample):\n",
    "        # Converting the SimpleITK objects to NumPy arrays for the images and the masks.\n",
    "        sample['img'] = sitk.GetArrayFromImage(sample['img'])\n",
    "        sample['mask'] = sitk.GetArrayFromImage(sample['mask'])\n",
    "        \n",
    "        return sample"
   ]
  },
  {
   "cell_type": "code",
   "execution_count": 7,
   "id": "b7cc7dec-a7cc-44f7-b502-0c551d0d1611",
   "metadata": {
    "ExecuteTime": {
     "end_time": "2024-06-16T12:59:45.794606300Z",
     "start_time": "2024-06-16T12:59:45.778650900Z"
    },
    "tags": []
   },
   "outputs": [],
   "source": [
    "# Select GPU if available\n",
    "device = torch.device(\"cuda:1\" if torch.cuda.is_available() else \"cpu\")"
   ]
  },
  {
   "cell_type": "code",
   "execution_count": 8,
   "id": "078f81c3-3dc4-4d76-bde0-61af56d4c88d",
   "metadata": {
    "ExecuteTime": {
     "end_time": "2024-06-16T16:12:18.576582900Z",
     "start_time": "2024-06-16T16:12:18.304050200Z"
    },
    "tags": []
   },
   "outputs": [],
   "source": [
    "data_path = 'database'\n",
    "test_dict_list = build_dicts(data_path, mode='testing')\n",
    "test_transform = monai.transforms.Compose([\n",
    "    ReadFiles(),\n",
    "    EqualizeSpacing(),\n",
    "    LoadData(),\n",
    "    EnsureChannelFirstd(channel_dim=\"no_channel\", keys=[\"img\", \"mask\"]),\n",
    "    ScaleIntensityd(keys=[\"img\"]),\n",
    "])"
   ]
  },
  {
   "cell_type": "code",
   "execution_count": 9,
   "id": "dddd27c3-baaa-47dc-93e6-7f1b8ffa9fdb",
   "metadata": {
    "ExecuteTime": {
     "end_time": "2024-06-16T16:13:02.513179300Z",
     "start_time": "2024-06-16T16:12:18.587614700Z"
    },
    "tags": []
   },
   "outputs": [
    {
     "name": "stderr",
     "output_type": "stream",
     "text": [
      "Loading dataset: 100%|██████████| 100/100 [00:18<00:00,  5.44it/s]\n"
     ]
    }
   ],
   "source": [
    "# Applying the composed transform function to the train and validation data sets.\n",
    "test_set = monai.data.CacheDataset(test_dict_list, transform=test_transform)"
   ]
  },
  {
   "cell_type": "code",
   "execution_count": 10,
   "id": "daf65de5-3889-40e6-84aa-3dee5ba1298a",
   "metadata": {
    "ExecuteTime": {
     "end_time": "2024-06-16T16:13:02.533177600Z",
     "start_time": "2024-06-16T16:13:02.513179300Z"
    }
   },
   "outputs": [],
   "source": [
    "# Defining the testing loader.\n",
    "test_loader = monai.data.DataLoader(test_set, batch_size=1, shuffle=False)"
   ]
  },
  {
   "cell_type": "markdown",
   "id": "f770cac6-6ede-49a1-822f-af211cbaff17",
   "metadata": {
    "user_expressions": []
   },
   "source": [
    "## Loading the models"
   ]
  },
  {
   "cell_type": "code",
   "execution_count": 11,
   "id": "72854d82-4f37-477f-b7b6-993b1a3344e5",
   "metadata": {
    "ExecuteTime": {
     "end_time": "2024-06-16T16:13:02.551997100Z",
     "start_time": "2024-06-16T16:13:02.534176200Z"
    },
    "tags": []
   },
   "outputs": [],
   "source": [
    "inferer_3d = monai.inferers.SlidingWindowInferer(roi_size=(32, 176, 176))\n",
    "inferer_2d = monai.inferers.SliceInferer(roi_size=(176, 176))\n",
    "softmax = torch.nn.Softmax(dim=1)\n",
    "output_transform = monai.transforms.Compose([\n",
    "    AsDiscrete(argmax=True),\n",
    "    KeepLargestConnectedComponent(applied_labels=[1,2,3],is_onehot=False)\n",
    "])\n",
    "score = monai.metrics.DiceMetric(include_background=False)"
   ]
  },
  {
   "cell_type": "code",
   "execution_count": 12,
   "id": "0e87544a-b5cb-4706-a08c-82edca252098",
   "metadata": {
    "tags": []
   },
   "outputs": [
    {
     "data": {
      "text/plain": [
       "<All keys matched successfully>"
      ]
     },
     "execution_count": 12,
     "metadata": {},
     "output_type": "execute_result"
    }
   ],
   "source": [
    "# A 3D U-net is created with the MONAI library\n",
    "model_3d = monai.networks.nets.UNet(\n",
    "    spatial_dims=3,\n",
    "    in_channels=1,\n",
    "    out_channels=4,\n",
    "    channels=(48, 96, 192, 384, 768),\n",
    "    strides=(2, 2, 2, 2),\n",
    "    num_res_units=2,\n",
    "    dropout=0.25\n",
    ").to(device)\n",
    "model_3d.eval()\n",
    "# Load the pre-trained 3D model.\n",
    "model_3d.load_state_dict(torch.load('models/trainedUNet3D_final.pt'))"
   ]
  },
  {
   "cell_type": "code",
   "execution_count": 13,
   "id": "780e7103-cae5-4a0f-8ae3-4a519c29ef57",
   "metadata": {
    "tags": []
   },
   "outputs": [
    {
     "data": {
      "text/plain": [
       "<All keys matched successfully>"
      ]
     },
     "execution_count": 13,
     "metadata": {},
     "output_type": "execute_result"
    }
   ],
   "source": [
    "# A 3D U-net is created with the MONAI library\n",
    "model_2d = monai.networks.nets.UNet(\n",
    "    spatial_dims=2,\n",
    "    in_channels=1,\n",
    "    out_channels=4,\n",
    "    channels=(48, 96, 192, 384, 768),\n",
    "    strides=(2, 2, 2, 2),\n",
    "    num_res_units=2,\n",
    "    dropout=0.5\n",
    ").to(device)\n",
    "model_2d.eval()\n",
    "# Load the pre-trained 2D model.\n",
    "model_2d.load_state_dict(torch.load('models/trainedUNet2D_final.pt'))"
   ]
  },
  {
   "cell_type": "code",
   "execution_count": 14,
   "id": "6cbaef5c-1a9e-486f-ae15-d4a61ecdfb5d",
   "metadata": {
    "tags": []
   },
   "outputs": [],
   "source": [
    "# Creating the metrics\n",
    "scorer = monai.metrics.DiceMetric(include_background=False)\n",
    "to_onehot = AsDiscrete(to_onehot=4)"
   ]
  },
  {
   "cell_type": "markdown",
   "id": "f7066cc1-9342-4e04-9f9c-d49ae3def853",
   "metadata": {
    "user_expressions": []
   },
   "source": [
    "## Calculating the metrics"
   ]
  },
  {
   "cell_type": "code",
   "execution_count": 15,
   "id": "440b6af2-673b-4b7b-9c54-123ae075751c",
   "metadata": {
    "tags": []
   },
   "outputs": [
    {
     "name": "stderr",
     "output_type": "stream",
     "text": [
      "100%|██████████| 100/100 [04:32<00:00,  2.73s/it]\n"
     ]
    }
   ],
   "source": [
    "# Define matrices to store the results, with 3 columns for the 3 classes\n",
    "scores_3d = np.zeros((len(test_loader), 3))\n",
    "scores_2d = np.zeros((len(test_loader), 3))\n",
    "scores_combo = np.zeros((len(test_loader), 3))\n",
    "\n",
    "# Loop over every sample individually\n",
    "for (i, sample) in tqdm(enumerate(test_loader), total=len(test_loader)):\n",
    "    with torch.no_grad():\n",
    "        output_3d = softmax(inferer_3d(sample['img'].to(device), model_3d))\n",
    "        output_2d = softmax(inferer_2d(sample['img'].to(device), model_2d))\n",
    "    output_combo = (output_3d * 0.5 + output_2d * 0.5)\n",
    "\n",
    "    classification_3d = [output_transform(x).cpu() for x in output_3d]\n",
    "    classification_2d = [output_transform(x).cpu() for x in output_2d]\n",
    "    classification_combo = [output_transform(x).cpu() for x in output_combo]\n",
    "\n",
    "    # Convert to SITK image for resampling\n",
    "    image_3d = sitk.GetImageFromArray(classification_3d[0].squeeze())\n",
    "    image_2d = sitk.GetImageFromArray(classification_2d[0].squeeze())\n",
    "    image_combo = sitk.GetImageFromArray(classification_combo[0].squeeze())\n",
    "\n",
    "    # Set the SITK spacing to the current spacing\n",
    "    cur_spacing = (float(sample['img_spacing'][0]), float(sample['img_spacing'][1]), float(sample['img_spacing'][2]))\n",
    "    image_3d.SetSpacing(cur_spacing)\n",
    "    image_2d.SetSpacing(cur_spacing)\n",
    "    image_combo.SetSpacing(cur_spacing)\n",
    "\n",
    "    # Resample back to the original spacing\n",
    "    resampled_3d = resample_img(image_3d, [float(x) for x in sample['org_spacing']], True)\n",
    "    resampled_2d = resample_img(image_2d, [float(x) for x in sample['org_spacing']], True)\n",
    "    resampled_combo = resample_img(image_combo, [float(x) for x in sample['org_spacing']], True)\n",
    "\n",
    "    # Read image data from SITK image\n",
    "    final_3d = np.expand_dims(sitk.GetArrayFromImage(resampled_3d), 0)\n",
    "    final_2d = np.expand_dims(sitk.GetArrayFromImage(resampled_2d), 0)\n",
    "    final_combo = np.expand_dims(sitk.GetArrayFromImage(resampled_combo), 0)\n",
    "\n",
    "    # Calculate Dice Score\n",
    "    scores_3d[i] = scorer([to_onehot(final_3d)], sample['mask'])\n",
    "    scores_2d[i] = scorer([to_onehot(final_2d)], sample['mask'])\n",
    "    scores_combo[i] = scorer([to_onehot(final_combo)], sample['mask'])"
   ]
  },
  {
   "cell_type": "markdown",
   "id": "b7f137cf-af2a-4c83-a6a4-8961bfb1b2a9",
   "metadata": {
    "user_expressions": []
   },
   "source": [
    "## Results"
   ]
  },
  {
   "cell_type": "code",
   "execution_count": 16,
   "id": "4d23fb28-f3af-4904-9a60-7b0a642ccd5a",
   "metadata": {
    "tags": []
   },
   "outputs": [
    {
     "name": "stdout",
     "output_type": "stream",
     "text": [
      "3D model ED: [0.85684587 0.84547848 0.95027387]\n",
      "3D model ES: [0.78571671 0.85532063 0.80888153]\n",
      "2D model ED: [0.91564136 0.8801142  0.96040753]\n",
      "2D model ES: [0.85851048 0.89524849 0.89973601]\n",
      "Ensemble ED: [0.91812142 0.87916938 0.95945513]\n",
      "ensemble ES: [0.86612758 0.89284862 0.89293839]\n"
     ]
    }
   ],
   "source": [
    "# Print the results of the different models\n",
    "# Because the dataloader is not shuffeled, we know that every even sample is a ED sample, and every odd sample is ES \n",
    "print(f\"3D model ED: {scores_3d[::2].mean(axis=0)}\")\n",
    "print(f\"3D model ES: {scores_3d[1::2].mean(axis=0)}\")\n",
    "print(f\"2D model ED: {scores_2d[::2].mean(axis=0)}\")\n",
    "print(f\"2D model ES: {scores_2d[1::2].mean(axis=0)}\")\n",
    "print(f\"Ensemble ED: {scores_combo[::2].mean(axis=0)}\")\n",
    "print(f\"ensemble ES: {scores_combo[1::2].mean(axis=0)}\")"
   ]
  },
  {
   "cell_type": "code",
   "execution_count": 17,
   "id": "574b59c9-e454-4890-b972-a38fe3d98e4a",
   "metadata": {
    "tags": []
   },
   "outputs": [
    {
     "data": {
      "image/png": "[encoded data removed]",
      "text/plain": [
       "<Figure size 1000x300 with 3 Axes>"
      ]
     },
     "metadata": {},
     "output_type": "display_data"
    }
   ],
   "source": [
    "# Create the histograms of dice scores\n",
    "fig, axs = plt.subplots(1,3, figsize=(10,3))\n",
    "axs[0].hist(scores_2d.mean(axis=1))\n",
    "axs[1].hist(scores_3d.mean(axis=1))\n",
    "axs[2].hist(scores_combo.mean(axis=1))\n",
    "plt.savefig(\"figures/histograms\",bbox_inches=\"tight\")\n",
    "plt.show()"
   ]
  },
  {
   "cell_type": "markdown",
   "id": "ebe0e482-6a07-44fa-b805-a7391e8cbcd4",
   "metadata": {
    "user_expressions": []
   },
   "source": [
    "## Generate images of the best and worst sample"
   ]
  },
  {
   "cell_type": "code",
   "execution_count": 18,
   "id": "8684de13-d0f6-4641-a63f-b188960ae028",
   "metadata": {
    "tags": []
   },
   "outputs": [],
   "source": [
    "best = scores_combo.mean(axis=1).argmax()\n",
    "worst = scores_combo.mean(axis=1).argmin()"
   ]
  },
  {
   "cell_type": "code",
   "execution_count": 19,
   "id": "c24c6d73-5dd7-4ae5-bfa4-2e6c9fc8fa12",
   "metadata": {
    "tags": []
   },
   "outputs": [],
   "source": [
    "best_sample = test_set[best]\n",
    "with torch.no_grad():\n",
    "    output_3d = softmax(inferer_3d(best_sample['img'].unsqueeze(0).to(device), model_3d))\n",
    "    output_2d = softmax(inferer_2d(best_sample['img'].unsqueeze(0).to(device), model_2d))\n",
    "output_combo = (output_3d * 0.5 + output_2d * 0.5)\n",
    "\n",
    "classification_3d = [output_transform(x).cpu() for x in output_3d]\n",
    "classification_2d = [output_transform(x).cpu() for x in output_2d]\n",
    "classification_combo = [output_transform(x).cpu() for x in output_combo]\n",
    "\n",
    "# Convert to SITK image for resampling\n",
    "image_3d = sitk.GetImageFromArray(classification_3d[0].squeeze())\n",
    "image_2d = sitk.GetImageFromArray(classification_2d[0].squeeze())\n",
    "image_combo = sitk.GetImageFromArray(classification_combo[0].squeeze())\n",
    "\n",
    "# Set the SITK spacing to the current spacing\n",
    "cur_spacing = (float(sample['img_spacing'][0]), float(sample['img_spacing'][1]), float(sample['img_spacing'][2]))\n",
    "image_3d.SetSpacing(cur_spacing)\n",
    "image_2d.SetSpacing(cur_spacing)\n",
    "image_combo.SetSpacing(cur_spacing)\n",
    "\n",
    "# Resample back to the original spacing\n",
    "resampled_3d = resample_img(image_3d, [float(x) for x in sample['org_spacing']], True)\n",
    "resampled_2d = resample_img(image_2d, [float(x) for x in sample['org_spacing']], True)\n",
    "resampled_combo = resample_img(image_combo, [float(x) for x in sample['org_spacing']], True)\n",
    "\n",
    "# Read image data from SITK image\n",
    "best_3d = sitk.GetArrayFromImage(resampled_3d)\n",
    "best_2d = sitk.GetArrayFromImage(resampled_2d)\n",
    "best_combo = sitk.GetArrayFromImage(resampled_combo)"
   ]
  },
  {
   "cell_type": "code",
   "execution_count": 20,
   "id": "02d96199-49a3-477e-8af5-24e7679e3da0",
   "metadata": {
    "tags": []
   },
   "outputs": [
    {
     "data": {
      "image/png": "[encoded data removed]",
      "text/plain": [
       "<Figure size 600x600 with 4 Axes>"
      ]
     },
     "metadata": {},
     "output_type": "display_data"
    }
   ],
   "source": [
    "fig, axs = plt.subplots(2, 2, figsize=(6, 6))\n",
    "slice_num = best_3d.shape[0]//2\n",
    "axs[0, 0].imshow(best_sample['mask'][0, slice_num])\n",
    "axs[0, 1].imshow(best_3d[slice_num])\n",
    "axs[1, 0].imshow(best_2d[slice_num])\n",
    "axs[1, 1].imshow(best_combo[slice_num])\n",
    "plt.savefig(\"figures/best_middle\", bbox_inches=\"tight\")\n",
    "plt.show()"
   ]
  },
  {
   "cell_type": "code",
   "execution_count": 21,
   "id": "02e88802-7836-4f52-843a-2f4c3a447c58",
   "metadata": {
    "tags": []
   },
   "outputs": [],
   "source": [
    "worst_sample = test_set[worst]\n",
    "with torch.no_grad():\n",
    "    output_3d = softmax(inferer_3d(worst_sample['img'].unsqueeze(0).to(device), model_3d))\n",
    "    output_2d = softmax(inferer_2d(worst_sample['img'].unsqueeze(0).to(device), model_2d))\n",
    "output_combo = (output_3d * 0.5 + output_2d * 0.5)\n",
    "\n",
    "classification_3d = [output_transform(x).cpu() for x in output_3d]\n",
    "classification_2d = [output_transform(x).cpu() for x in output_2d]\n",
    "classification_combo = [output_transform(x).cpu() for x in output_combo]\n",
    "\n",
    "# Convert to SITK image for resampling\n",
    "image_3d = sitk.GetImageFromArray(classification_3d[0].squeeze())\n",
    "image_2d = sitk.GetImageFromArray(classification_2d[0].squeeze())\n",
    "image_combo = sitk.GetImageFromArray(classification_combo[0].squeeze())\n",
    "\n",
    "# Set the SITK spacing to the current spacing\n",
    "cur_spacing = (float(sample['img_spacing'][0]), float(sample['img_spacing'][1]), float(sample['img_spacing'][2]))\n",
    "image_3d.SetSpacing(cur_spacing)\n",
    "image_2d.SetSpacing(cur_spacing)\n",
    "image_combo.SetSpacing(cur_spacing)\n",
    "\n",
    "# Resample back to the original spacing\n",
    "resampled_3d = resample_img(image_3d, [float(x) for x in sample['org_spacing']], True)\n",
    "resampled_2d = resample_img(image_2d, [float(x) for x in sample['org_spacing']], True)\n",
    "resampled_combo = resample_img(image_combo, [float(x) for x in sample['org_spacing']], True)\n",
    "\n",
    "# Read image data from SITK image\n",
    "worst_3d = sitk.GetArrayFromImage(resampled_3d)\n",
    "worst_2d = sitk.GetArrayFromImage(resampled_2d)\n",
    "worst_combo = sitk.GetArrayFromImage(resampled_combo)"
   ]
  },
  {
   "cell_type": "code",
   "execution_count": 22,
   "id": "1f9f0b37-b021-4701-95a0-7d3f7d9b5765",
   "metadata": {
    "tags": []
   },
   "outputs": [
    {
     "data": {
      "image/png": "[encoded data removed]",
      "text/plain": [
       "<Figure size 1200x600 with 8 Axes>"
      ]
     },
     "metadata": {},
     "output_type": "display_data"
    }
   ],
   "source": [
    "fig, axs = plt.subplots(2, 4, figsize=(12, 6))\n",
    "slice_num = 1\n",
    "axs[0, 0].imshow(worst_sample['mask'][0, slice_num])\n",
    "axs[0, 1].imshow(worst_2d[slice_num])\n",
    "axs[0, 2].imshow(worst_3d[slice_num])\n",
    "axs[0, 3].imshow(worst_combo[slice_num])\n",
    "slice_num = worst_3d.shape[0]//2\n",
    "axs[1, 0].imshow(worst_sample['mask'][0, slice_num])\n",
    "axs[1, 1].imshow(worst_2d[slice_num])\n",
    "axs[1, 2].imshow(worst_3d[slice_num])\n",
    "axs[1, 3].imshow(worst_combo[slice_num])\n",
    "plt.savefig(\"figures/worsts\", bbox_inches=\"tight\")\n",
    "plt.show()"
   ]
  },
  {
   "cell_type": "code",
   "execution_count": null,
   "id": "fc8ab272-f85b-4f6a-9bbc-970986eb0c9c",
   "metadata": {},
   "outputs": [],
   "source": []
  }
 ],
 "metadata": {
  "kernelspec": {
   "display_name": "Python",
   "language": "python",
   "name": "python3"
  },
  "language_info": {
   "codemirror_mode": {
    "name": "ipython",
    "version": 3
   },
   "file_extension": ".py",
   "mimetype": "text/x-python",
   "name": "python",
   "nbconvert_exporter": "python",
   "pygments_lexer": "ipython3",
   "version": "3.8.10"
  }
 },
 "nbformat": 4,
 "nbformat_minor": 5
}
